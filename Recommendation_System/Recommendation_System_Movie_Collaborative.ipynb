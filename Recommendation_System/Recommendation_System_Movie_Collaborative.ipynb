{
  "nbformat": 4,
  "nbformat_minor": 0,
  "metadata": {
    "colab": {
      "name": "Proyek Akhir_MLT 2(Collaborative)",
      "provenance": []
    },
    "kernelspec": {
      "name": "python3",
      "display_name": "Python 3"
    },
    "language_info": {
      "name": "python"
    },
    "accelerator": "GPU",
    "gpuClass": "standard"
  },
  "cells": [
    {
      "cell_type": "code",
      "execution_count": null,
      "metadata": {
        "id": "g9MlKLn72955"
      },
      "outputs": [],
      "source": [
        ""
      ]
    },
    {
      "cell_type": "code",
      "source": [
        "from google.colab import drive\n",
        "drive.mount('/content/drive')"
      ],
      "metadata": {
        "colab": {
          "base_uri": "https://localhost:8080/"
        },
        "id": "8nKe4K0J5H99",
        "outputId": "c27fa918-124c-4720-e1c8-dad155cd20c9"
      },
      "execution_count": 1,
      "outputs": [
        {
          "output_type": "stream",
          "name": "stdout",
          "text": [
            "Drive already mounted at /content/drive; to attempt to forcibly remount, call drive.mount(\"/content/drive\", force_remount=True).\n"
          ]
        }
      ]
    },
    {
      "cell_type": "markdown",
      "source": [
        "## Collaborative Filtering"
      ],
      "metadata": {
        "id": "2G2aq00N3lal"
      }
    },
    {
      "cell_type": "markdown",
      "source": [
        "### Data Understanding"
      ],
      "metadata": {
        "id": "b97Vfkp-3pWD"
      }
    },
    {
      "cell_type": "code",
      "source": [
        "import pandas as pd\n",
        "import numpy as np \n",
        "import tensorflow as tf\n",
        "from tensorflow import keras\n",
        "from tensorflow.keras import layers\n",
        "import matplotlib.pyplot as plt"
      ],
      "metadata": {
        "id": "rn7N9D-T3H5v"
      },
      "execution_count": 2,
      "outputs": []
    },
    {
      "cell_type": "code",
      "source": [
        "rating = pd.read_csv('/content/drive/MyDrive/Colab Notebooks/ratings.csv')"
      ],
      "metadata": {
        "id": "ZbuhUdRL3PLO"
      },
      "execution_count": 3,
      "outputs": []
    },
    {
      "cell_type": "markdown",
      "source": [
        "### Data Preparation"
      ],
      "metadata": {
        "id": "fVxgbuj13sr1"
      }
    },
    {
      "cell_type": "code",
      "source": [
        "# Mengubah userID menjadi list tanpa nilai yang sama\n",
        "user_ids = rating['userId'].unique().tolist()\n",
        " \n",
        "# Melakukan encoding userID\n",
        "user_to_user_encoded = {x: i for i, x in enumerate(user_ids)}\n",
        " \n",
        "# Melakukan proses encoding angka ke ke userID\n",
        "user_encoded_to_user = {i: x for i, x in enumerate(user_ids)}"
      ],
      "metadata": {
        "id": "hBwHrj2t3ePG"
      },
      "execution_count": 4,
      "outputs": []
    },
    {
      "cell_type": "code",
      "source": [
        "# Mengubah movieId menjadi list tanpa nilai yang sama\n",
        "movie_ids = rating['movieId'].unique().tolist()\n",
        " \n",
        "# Melakukan proses encoding movieId\n",
        "movie_to_movie_encoded = {x: i for i, x in enumerate(movie_ids)}\n",
        " \n",
        "# Melakukan proses encoding angka ke movieId\n",
        "movie_encoded_to_movie = {i: x for i, x in enumerate(movie_ids)}"
      ],
      "metadata": {
        "id": "rEuJAGnM3f4V"
      },
      "execution_count": 5,
      "outputs": []
    },
    {
      "cell_type": "code",
      "source": [
        "# Mapping userId ke dataframe user\n",
        "rating['user'] = rating['userId'].map(user_to_user_encoded)\n",
        " \n",
        "# Mapping placeID ke dataframe movie\n",
        "rating['movie'] = rating['movieId'].map(movie_to_movie_encoded)"
      ],
      "metadata": {
        "id": "2CH-bU9R3hVA"
      },
      "execution_count": 6,
      "outputs": []
    },
    {
      "cell_type": "code",
      "source": [
        "# Mendapatkan jumlah user\n",
        "num_users = len(user_to_user_encoded)\n",
        "print(num_users)\n",
        " \n",
        "# Mendapatkan jumlah movie\n",
        "num_movie = len(movie_encoded_to_movie)\n",
        "print(num_movie)\n",
        " \n",
        "# Mengubah rating menjadi nilai float\n",
        "rating['rating'] = rating['rating'].values.astype(np.float32)\n",
        " \n",
        "# Nilai minimum rating\n",
        "min_rating = min(rating['rating'])\n",
        " \n",
        "# Nilai maksimal rating\n",
        "max_rating = max(rating['rating'])\n",
        " \n",
        "print('Number of User: {}, Number of Resto: {}, Min Rating: {}, Max Rating: {}'.format(\n",
        "    num_users, num_movie, min_rating, max_rating\n",
        "))"
      ],
      "metadata": {
        "id": "8PCN--Nv3i1u",
        "colab": {
          "base_uri": "https://localhost:8080/"
        },
        "outputId": "190d4c87-c970-43c4-ea67-80b0fc04aea7"
      },
      "execution_count": 7,
      "outputs": [
        {
          "output_type": "stream",
          "name": "stdout",
          "text": [
            "247753\n",
            "33670\n",
            "Number of User: 247753, Number of Resto: 33670, Min Rating: 0.5, Max Rating: 5.0\n"
          ]
        }
      ]
    },
    {
      "cell_type": "markdown",
      "source": [
        "### Membagi Data untuk Training dan Validasi"
      ],
      "metadata": {
        "id": "Xa3NcOf_3yef"
      }
    },
    {
      "cell_type": "code",
      "source": [
        "# Mengacak dataset\n",
        "rating_data = rating.sample(frac=0.1, random_state=42)\n",
        "rating_data"
      ],
      "metadata": {
        "id": "uIIAkiSH3kNu",
        "colab": {
          "base_uri": "https://localhost:8080/",
          "height": 424
        },
        "outputId": "a90920a6-e2d9-4a6f-c4c4-1c6b73032143"
      },
      "execution_count": 13,
      "outputs": [
        {
          "output_type": "execute_result",
          "data": {
            "text/plain": [
              "          userId  movieId  rating   timestamp    user  movie\n",
              "11079022  119464    47610     4.5  1186982523  119463   2247\n",
              "21752061  235223     1222     4.0  1122557779  235222   1139\n",
              "9140382    98696     2710     2.0   960345179   98695    395\n",
              "16391073  177013     6365     4.0  1424502306  177012    776\n",
              "7074693    76026     7236     4.0  1073539976   76025   7965\n",
              "...          ...      ...     ...         ...     ...    ...\n",
              "21885037  236707      551     5.0   966363054  236706     32\n",
              "16938048  183076    65216     5.0  1308465206  183075   2788\n",
              "7619638    81819      653     3.5  1121345497   81818    308\n",
              "10165100  109637     3018     4.5  1223448802  109636   1556\n",
              "13835282  149507     2060     4.0   974780449  149506   2502\n",
              "\n",
              "[2288 rows x 6 columns]"
            ],
            "text/html": [
              "\n",
              "  <div id=\"df-060c378f-c020-4da7-8d9b-8a226216a78f\">\n",
              "    <div class=\"colab-df-container\">\n",
              "      <div>\n",
              "<style scoped>\n",
              "    .dataframe tbody tr th:only-of-type {\n",
              "        vertical-align: middle;\n",
              "    }\n",
              "\n",
              "    .dataframe tbody tr th {\n",
              "        vertical-align: top;\n",
              "    }\n",
              "\n",
              "    .dataframe thead th {\n",
              "        text-align: right;\n",
              "    }\n",
              "</style>\n",
              "<table border=\"1\" class=\"dataframe\">\n",
              "  <thead>\n",
              "    <tr style=\"text-align: right;\">\n",
              "      <th></th>\n",
              "      <th>userId</th>\n",
              "      <th>movieId</th>\n",
              "      <th>rating</th>\n",
              "      <th>timestamp</th>\n",
              "      <th>user</th>\n",
              "      <th>movie</th>\n",
              "    </tr>\n",
              "  </thead>\n",
              "  <tbody>\n",
              "    <tr>\n",
              "      <th>11079022</th>\n",
              "      <td>119464</td>\n",
              "      <td>47610</td>\n",
              "      <td>4.5</td>\n",
              "      <td>1186982523</td>\n",
              "      <td>119463</td>\n",
              "      <td>2247</td>\n",
              "    </tr>\n",
              "    <tr>\n",
              "      <th>21752061</th>\n",
              "      <td>235223</td>\n",
              "      <td>1222</td>\n",
              "      <td>4.0</td>\n",
              "      <td>1122557779</td>\n",
              "      <td>235222</td>\n",
              "      <td>1139</td>\n",
              "    </tr>\n",
              "    <tr>\n",
              "      <th>9140382</th>\n",
              "      <td>98696</td>\n",
              "      <td>2710</td>\n",
              "      <td>2.0</td>\n",
              "      <td>960345179</td>\n",
              "      <td>98695</td>\n",
              "      <td>395</td>\n",
              "    </tr>\n",
              "    <tr>\n",
              "      <th>16391073</th>\n",
              "      <td>177013</td>\n",
              "      <td>6365</td>\n",
              "      <td>4.0</td>\n",
              "      <td>1424502306</td>\n",
              "      <td>177012</td>\n",
              "      <td>776</td>\n",
              "    </tr>\n",
              "    <tr>\n",
              "      <th>7074693</th>\n",
              "      <td>76026</td>\n",
              "      <td>7236</td>\n",
              "      <td>4.0</td>\n",
              "      <td>1073539976</td>\n",
              "      <td>76025</td>\n",
              "      <td>7965</td>\n",
              "    </tr>\n",
              "    <tr>\n",
              "      <th>...</th>\n",
              "      <td>...</td>\n",
              "      <td>...</td>\n",
              "      <td>...</td>\n",
              "      <td>...</td>\n",
              "      <td>...</td>\n",
              "      <td>...</td>\n",
              "    </tr>\n",
              "    <tr>\n",
              "      <th>21885037</th>\n",
              "      <td>236707</td>\n",
              "      <td>551</td>\n",
              "      <td>5.0</td>\n",
              "      <td>966363054</td>\n",
              "      <td>236706</td>\n",
              "      <td>32</td>\n",
              "    </tr>\n",
              "    <tr>\n",
              "      <th>16938048</th>\n",
              "      <td>183076</td>\n",
              "      <td>65216</td>\n",
              "      <td>5.0</td>\n",
              "      <td>1308465206</td>\n",
              "      <td>183075</td>\n",
              "      <td>2788</td>\n",
              "    </tr>\n",
              "    <tr>\n",
              "      <th>7619638</th>\n",
              "      <td>81819</td>\n",
              "      <td>653</td>\n",
              "      <td>3.5</td>\n",
              "      <td>1121345497</td>\n",
              "      <td>81818</td>\n",
              "      <td>308</td>\n",
              "    </tr>\n",
              "    <tr>\n",
              "      <th>10165100</th>\n",
              "      <td>109637</td>\n",
              "      <td>3018</td>\n",
              "      <td>4.5</td>\n",
              "      <td>1223448802</td>\n",
              "      <td>109636</td>\n",
              "      <td>1556</td>\n",
              "    </tr>\n",
              "    <tr>\n",
              "      <th>13835282</th>\n",
              "      <td>149507</td>\n",
              "      <td>2060</td>\n",
              "      <td>4.0</td>\n",
              "      <td>974780449</td>\n",
              "      <td>149506</td>\n",
              "      <td>2502</td>\n",
              "    </tr>\n",
              "  </tbody>\n",
              "</table>\n",
              "<p>2288 rows × 6 columns</p>\n",
              "</div>\n",
              "      <button class=\"colab-df-convert\" onclick=\"convertToInteractive('df-060c378f-c020-4da7-8d9b-8a226216a78f')\"\n",
              "              title=\"Convert this dataframe to an interactive table.\"\n",
              "              style=\"display:none;\">\n",
              "        \n",
              "  <svg xmlns=\"http://www.w3.org/2000/svg\" height=\"24px\"viewBox=\"0 0 24 24\"\n",
              "       width=\"24px\">\n",
              "    <path d=\"M0 0h24v24H0V0z\" fill=\"none\"/>\n",
              "    <path d=\"M18.56 5.44l.94 2.06.94-2.06 2.06-.94-2.06-.94-.94-2.06-.94 2.06-2.06.94zm-11 1L8.5 8.5l.94-2.06 2.06-.94-2.06-.94L8.5 2.5l-.94 2.06-2.06.94zm10 10l.94 2.06.94-2.06 2.06-.94-2.06-.94-.94-2.06-.94 2.06-2.06.94z\"/><path d=\"M17.41 7.96l-1.37-1.37c-.4-.4-.92-.59-1.43-.59-.52 0-1.04.2-1.43.59L10.3 9.45l-7.72 7.72c-.78.78-.78 2.05 0 2.83L4 21.41c.39.39.9.59 1.41.59.51 0 1.02-.2 1.41-.59l7.78-7.78 2.81-2.81c.8-.78.8-2.07 0-2.86zM5.41 20L4 18.59l7.72-7.72 1.47 1.35L5.41 20z\"/>\n",
              "  </svg>\n",
              "      </button>\n",
              "      \n",
              "  <style>\n",
              "    .colab-df-container {\n",
              "      display:flex;\n",
              "      flex-wrap:wrap;\n",
              "      gap: 12px;\n",
              "    }\n",
              "\n",
              "    .colab-df-convert {\n",
              "      background-color: #E8F0FE;\n",
              "      border: none;\n",
              "      border-radius: 50%;\n",
              "      cursor: pointer;\n",
              "      display: none;\n",
              "      fill: #1967D2;\n",
              "      height: 32px;\n",
              "      padding: 0 0 0 0;\n",
              "      width: 32px;\n",
              "    }\n",
              "\n",
              "    .colab-df-convert:hover {\n",
              "      background-color: #E2EBFA;\n",
              "      box-shadow: 0px 1px 2px rgba(60, 64, 67, 0.3), 0px 1px 3px 1px rgba(60, 64, 67, 0.15);\n",
              "      fill: #174EA6;\n",
              "    }\n",
              "\n",
              "    [theme=dark] .colab-df-convert {\n",
              "      background-color: #3B4455;\n",
              "      fill: #D2E3FC;\n",
              "    }\n",
              "\n",
              "    [theme=dark] .colab-df-convert:hover {\n",
              "      background-color: #434B5C;\n",
              "      box-shadow: 0px 1px 3px 1px rgba(0, 0, 0, 0.15);\n",
              "      filter: drop-shadow(0px 1px 2px rgba(0, 0, 0, 0.3));\n",
              "      fill: #FFFFFF;\n",
              "    }\n",
              "  </style>\n",
              "\n",
              "      <script>\n",
              "        const buttonEl =\n",
              "          document.querySelector('#df-060c378f-c020-4da7-8d9b-8a226216a78f button.colab-df-convert');\n",
              "        buttonEl.style.display =\n",
              "          google.colab.kernel.accessAllowed ? 'block' : 'none';\n",
              "\n",
              "        async function convertToInteractive(key) {\n",
              "          const element = document.querySelector('#df-060c378f-c020-4da7-8d9b-8a226216a78f');\n",
              "          const dataTable =\n",
              "            await google.colab.kernel.invokeFunction('convertToInteractive',\n",
              "                                                     [key], {});\n",
              "          if (!dataTable) return;\n",
              "\n",
              "          const docLinkHtml = 'Like what you see? Visit the ' +\n",
              "            '<a target=\"_blank\" href=https://colab.research.google.com/notebooks/data_table.ipynb>data table notebook</a>'\n",
              "            + ' to learn more about interactive tables.';\n",
              "          element.innerHTML = '';\n",
              "          dataTable['output_type'] = 'display_data';\n",
              "          await google.colab.output.renderOutput(dataTable, element);\n",
              "          const docLink = document.createElement('div');\n",
              "          docLink.innerHTML = docLinkHtml;\n",
              "          element.appendChild(docLink);\n",
              "        }\n",
              "      </script>\n",
              "    </div>\n",
              "  </div>\n",
              "  "
            ]
          },
          "metadata": {},
          "execution_count": 13
        }
      ]
    },
    {
      "cell_type": "code",
      "source": [
        "# Membuat variabel x untuk mencocokkan data user dan movie menjadi satu value\n",
        "x = rating[['user', 'movie']].values\n",
        " \n",
        "# Membuat variabel y untuk membuat rating dari hasil \n",
        "y = rating['rating'].apply(lambda x: (x - min_rating) / (max_rating - min_rating)).values\n",
        " \n",
        "# Membagi menjadi 80% data train dan 20% data validasi\n",
        "train_indices = int(0.8 * rating.shape[0])\n",
        "x_train, x_val, y_train, y_val = (\n",
        "    x[:train_indices],\n",
        "    x[train_indices:],\n",
        "    y[:train_indices],\n",
        "    y[train_indices:]\n",
        ")"
      ],
      "metadata": {
        "id": "r3GIqZMR3z75"
      },
      "execution_count": 14,
      "outputs": []
    },
    {
      "cell_type": "code",
      "source": [
        "class RecommenderNet(tf.keras.Model):\n",
        " \n",
        "  # Insialisasi fungsi\n",
        "  def __init__(self, num_users, num_movie, embedding_size, **kwargs):\n",
        "    super(RecommenderNet, self).__init__(**kwargs)\n",
        "    self.num_users = num_users\n",
        "    self.num_movie = num_movie\n",
        "    self.embedding_size = embedding_size\n",
        "    self.user_embedding = layers.Embedding( # layer embedding user\n",
        "        num_users,\n",
        "        embedding_size,\n",
        "        embeddings_initializer = 'he_normal',\n",
        "        embeddings_regularizer = keras.regularizers.l2(1e-6)\n",
        "    )\n",
        "    self.user_bias = layers.Embedding(num_users, 1) # layer embedding user bias\n",
        "    self.movie_embedding = layers.Embedding( # layer embeddings movie\n",
        "        num_movie,\n",
        "        embedding_size,\n",
        "        embeddings_initializer = 'he_normal',\n",
        "        embeddings_regularizer = keras.regularizers.l2(1e-6)\n",
        "    )\n",
        "    self.movie_bias = layers.Embedding(num_movie, 1) # layer embedding movie bias\n",
        " \n",
        "  def call(self, inputs):\n",
        "    user_vector = self.user_embedding(inputs[:,0]) # memanggil layer embedding 1\n",
        "    user_bias = self.user_bias(inputs[:, 0]) # memanggil layer embedding 2\n",
        "    movie_vector = self.movie_embedding(inputs[:, 1]) # memanggil layer embedding 3\n",
        "    movie_bias = self.movie_bias(inputs[:, 1]) # memanggil layer embedding 4\n",
        " \n",
        "    dot_user_movie = tf.tensordot(user_vector, movie_vector, 2) \n",
        " \n",
        "    x = dot_user_movie + user_bias + movie_bias\n",
        "    \n",
        "    return tf.nn.sigmoid(x) # activation sigmoid"
      ],
      "metadata": {
        "id": "5lMbDcQ_33Kg"
      },
      "execution_count": 15,
      "outputs": []
    },
    {
      "cell_type": "code",
      "source": [
        "model = RecommenderNet(num_users, num_movie, 50) # inisialisasi model\n",
        " \n",
        "# model compile\n",
        "model.compile(\n",
        "    loss = tf.keras.losses.BinaryCrossentropy(),\n",
        "    optimizer = keras.optimizers.Adam(learning_rate=0.001),\n",
        "    metrics=[tf.keras.metrics.RootMeanSquaredError()]\n",
        ")\n"
      ],
      "metadata": {
        "id": "ZIudzn603484"
      },
      "execution_count": 16,
      "outputs": []
    },
    {
      "cell_type": "code",
      "source": [
        "# Memulai training\n",
        " \n",
        "history = model.fit(\n",
        "    x = x_train,\n",
        "    y = y_train,\n",
        "    batch_size = 8,\n",
        "    epochs = 25,\n",
        "    validation_data = (x_val, y_val)\n",
        ")"
      ],
      "metadata": {
        "id": "4eGoBIFH36N-",
        "colab": {
          "base_uri": "https://localhost:8080/"
        },
        "outputId": "bca3153f-d3be-46d3-f2c0-47921a0a6c71"
      },
      "execution_count": 18,
      "outputs": [
        {
          "output_type": "stream",
          "name": "stdout",
          "text": [
            "Epoch 1/25\n",
            "2289/2289 [==============================] - 26s 11ms/step - loss: 0.6012 - root_mean_squared_error: 0.2027 - val_loss: 0.6564 - val_root_mean_squared_error: 0.2565\n",
            "Epoch 2/25\n",
            "2289/2289 [==============================] - 27s 12ms/step - loss: 0.5932 - root_mean_squared_error: 0.1937 - val_loss: 0.6540 - val_root_mean_squared_error: 0.2543\n",
            "Epoch 3/25\n",
            "2289/2289 [==============================] - 25s 11ms/step - loss: 0.5892 - root_mean_squared_error: 0.1891 - val_loss: 0.6520 - val_root_mean_squared_error: 0.2524\n",
            "Epoch 4/25\n",
            "2289/2289 [==============================] - 30s 13ms/step - loss: 0.5840 - root_mean_squared_error: 0.1829 - val_loss: 0.6499 - val_root_mean_squared_error: 0.2504\n",
            "Epoch 5/25\n",
            "2289/2289 [==============================] - 23s 10ms/step - loss: 0.5786 - root_mean_squared_error: 0.1765 - val_loss: 0.6482 - val_root_mean_squared_error: 0.2489\n",
            "Epoch 6/25\n",
            "2289/2289 [==============================] - 25s 11ms/step - loss: 0.5748 - root_mean_squared_error: 0.1719 - val_loss: 0.6466 - val_root_mean_squared_error: 0.2474\n",
            "Epoch 7/25\n",
            "2289/2289 [==============================] - 27s 12ms/step - loss: 0.5710 - root_mean_squared_error: 0.1673 - val_loss: 0.6454 - val_root_mean_squared_error: 0.2464\n",
            "Epoch 8/25\n",
            "2289/2289 [==============================] - 28s 12ms/step - loss: 0.5677 - root_mean_squared_error: 0.1631 - val_loss: 0.6442 - val_root_mean_squared_error: 0.2453\n",
            "Epoch 9/25\n",
            "2289/2289 [==============================] - 26s 11ms/step - loss: 0.5631 - root_mean_squared_error: 0.1572 - val_loss: 0.6431 - val_root_mean_squared_error: 0.2443\n",
            "Epoch 10/25\n",
            "2289/2289 [==============================] - 23s 10ms/step - loss: 0.5602 - root_mean_squared_error: 0.1533 - val_loss: 0.6419 - val_root_mean_squared_error: 0.2431\n",
            "Epoch 11/25\n",
            "2289/2289 [==============================] - 26s 11ms/step - loss: 0.5573 - root_mean_squared_error: 0.1494 - val_loss: 0.6412 - val_root_mean_squared_error: 0.2426\n",
            "Epoch 12/25\n",
            "2289/2289 [==============================] - 30s 13ms/step - loss: 0.5547 - root_mean_squared_error: 0.1459 - val_loss: 0.6405 - val_root_mean_squared_error: 0.2419\n",
            "Epoch 13/25\n",
            "2289/2289 [==============================] - 24s 11ms/step - loss: 0.5512 - root_mean_squared_error: 0.1411 - val_loss: 0.6400 - val_root_mean_squared_error: 0.2415\n",
            "Epoch 14/25\n",
            "2289/2289 [==============================] - 26s 11ms/step - loss: 0.5486 - root_mean_squared_error: 0.1375 - val_loss: 0.6393 - val_root_mean_squared_error: 0.2409\n",
            "Epoch 15/25\n",
            "2289/2289 [==============================] - 25s 11ms/step - loss: 0.5462 - root_mean_squared_error: 0.1341 - val_loss: 0.6390 - val_root_mean_squared_error: 0.2406\n",
            "Epoch 16/25\n",
            "2289/2289 [==============================] - 24s 10ms/step - loss: 0.5443 - root_mean_squared_error: 0.1313 - val_loss: 0.6385 - val_root_mean_squared_error: 0.2402\n",
            "Epoch 17/25\n",
            "2289/2289 [==============================] - 27s 12ms/step - loss: 0.5417 - root_mean_squared_error: 0.1275 - val_loss: 0.6381 - val_root_mean_squared_error: 0.2399\n",
            "Epoch 18/25\n",
            "2289/2289 [==============================] - 25s 11ms/step - loss: 0.5397 - root_mean_squared_error: 0.1245 - val_loss: 0.6378 - val_root_mean_squared_error: 0.2395\n",
            "Epoch 19/25\n",
            "2289/2289 [==============================] - 29s 13ms/step - loss: 0.5378 - root_mean_squared_error: 0.1218 - val_loss: 0.6374 - val_root_mean_squared_error: 0.2392\n",
            "Epoch 20/25\n",
            "2289/2289 [==============================] - 24s 11ms/step - loss: 0.5357 - root_mean_squared_error: 0.1183 - val_loss: 0.6372 - val_root_mean_squared_error: 0.2391\n",
            "Epoch 21/25\n",
            "2289/2289 [==============================] - 24s 11ms/step - loss: 0.5341 - root_mean_squared_error: 0.1161 - val_loss: 0.6370 - val_root_mean_squared_error: 0.2389\n",
            "Epoch 22/25\n",
            "2289/2289 [==============================] - 24s 11ms/step - loss: 0.5324 - root_mean_squared_error: 0.1132 - val_loss: 0.6367 - val_root_mean_squared_error: 0.2386\n",
            "Epoch 23/25\n",
            "2289/2289 [==============================] - 24s 11ms/step - loss: 0.5307 - root_mean_squared_error: 0.1106 - val_loss: 0.6363 - val_root_mean_squared_error: 0.2383\n",
            "Epoch 24/25\n",
            "2289/2289 [==============================] - 24s 10ms/step - loss: 0.5295 - root_mean_squared_error: 0.1087 - val_loss: 0.6360 - val_root_mean_squared_error: 0.2380\n",
            "Epoch 25/25\n",
            "2289/2289 [==============================] - 23s 10ms/step - loss: 0.5278 - root_mean_squared_error: 0.1060 - val_loss: 0.6360 - val_root_mean_squared_error: 0.2379\n"
          ]
        }
      ]
    },
    {
      "cell_type": "markdown",
      "source": [
        "### Visualisasi Metrik"
      ],
      "metadata": {
        "id": "22ym2i7u8tvj"
      }
    },
    {
      "cell_type": "code",
      "source": [
        "plt.plot(history.history['root_mean_squared_error'])\n",
        "plt.plot(history.history['val_root_mean_squared_error'])\n",
        "plt.title('model_metrics')\n",
        "plt.ylabel('root_mean_squared_error')\n",
        "plt.xlabel('epoch')\n",
        "plt.legend(['train', 'test'], loc='upper left')\n",
        "plt.show()"
      ],
      "metadata": {
        "colab": {
          "base_uri": "https://localhost:8080/",
          "height": 295
        },
        "id": "H7iWS3Hr8xqf",
        "outputId": "9bb517f5-ca04-43c2-b0ba-a9146d609ef9"
      },
      "execution_count": 19,
      "outputs": [
        {
          "output_type": "display_data",
          "data": {
            "text/plain": [
              "<Figure size 432x288 with 1 Axes>"
            ],
            "image/png": "[encoded data removed]"
          },
          "metadata": {
            "needs_background": "light"
          }
        }
      ]
    },
    {
      "cell_type": "markdown",
      "source": [
        "### Mendapatkan Rekomendasi Resto"
      ],
      "metadata": {
        "id": "SQiM790I8zZQ"
      }
    },
    {
      "cell_type": "code",
      "source": [
        "movie_df = pd.read_csv('/content/drive/MyDrive/Colab Notebooks/Data/movies.csv')\n",
        " \n",
        "# Mengambil sample user\n",
        "user_id = rating.userId.sample(1).iloc[0]\n",
        "movie_visited_by_user = rating[rating.userId == user_id]\n",
        "\n",
        "movie_not_visited = movie_df[~movie_df['movieId'].isin(movie_visited_by_user.movieId.values)]['movieId'] \n",
        "movie_not_visited = list(\n",
        "    set(movie_not_visited)\n",
        "    .intersection(set(movie_to_movie_encoded.keys()))\n",
        ")\n",
        " \n",
        "movie_not_visited = [[movie_to_movie_encoded.get(x)] for x in movie_not_visited]\n",
        "user_encoder = user_to_user_encoded.get(user_id)\n",
        "user_movie_array = np.hstack(\n",
        "    ([[user_encoder]] * len(movie_not_visited), movie_not_visited)\n",
        ")"
      ],
      "metadata": {
        "id": "GsBOeYiu81e_"
      },
      "execution_count": 23,
      "outputs": []
    },
    {
      "cell_type": "code",
      "source": [
        "ratings = model.predict(user_movie_array).flatten()\n",
        " \n",
        "top_ratings_indices = ratings.argsort()[-10:][::-1]\n",
        "recommended_movie_ids = [\n",
        "    movie_encoded_to_movie.get(movie_not_visited[x][0]) for x in top_ratings_indices\n",
        "]\n",
        " \n",
        "print('Showing recommendations for users: {}'.format(user_id))\n",
        "print('===' * 9)\n",
        "print('Movie with high ratings from user')\n",
        "print('----' * 8)\n",
        " \n",
        "top_movie_user = (\n",
        "    movie_visited_by_user.sort_values(\n",
        "        by = 'rating',\n",
        "        ascending=False\n",
        "    )\n",
        "    .head(5)\n",
        "    .movieId.values\n",
        ")\n",
        " \n",
        "movie_df_rows = movie_df[movie_df['movieId'].isin(top_movie_user)]\n",
        "for row in movie_df_rows.itertuples():\n",
        "    print(row.title)\n",
        " \n",
        "print('----' * 8)\n",
        "print('Top 10 movie recommendation')\n",
        "print('----' * 8)\n",
        " \n",
        "recommended_movie = movie_df[movie_df['movieId'].isin(recommended_movie_ids)]\n",
        "for row in recommended_movie.itertuples():\n",
        "    print(row.title)"
      ],
      "metadata": {
        "colab": {
          "base_uri": "https://localhost:8080/"
        },
        "id": "hu9JpY4D9Su5",
        "outputId": "97d4bf7e-99ad-4034-8bee-42265b95bcb1"
      },
      "execution_count": 29,
      "outputs": [
        {
          "output_type": "stream",
          "name": "stdout",
          "text": [
            "Showing recommendations for users: 59970\n",
            "===========================\n",
            "Movie with high ratings from user\n",
            "--------------------------------\n",
            "GoldenEye (1995)\n",
            "--------------------------------\n",
            "Top 10 movie recommendation\n",
            "--------------------------------\n",
            "Postman, The (Postino, Il) (1994)\n",
            "Shawshank Redemption, The (1994)\n",
            "Wallace & Gromit: A Close Shave (1995)\n",
            "My Man Godfrey (1936)\n",
            "To Kill a Mockingbird (1962)\n",
            "Godfather: Part II, The (1974)\n",
            "Treasure of the Sierra Madre, The (1948)\n",
            "Man Who Would Be King, The (1975)\n",
            "Pi (1998)\n",
            "On the Waterfront (1954)\n"
          ]
        }
      ]
    }
  ]
}